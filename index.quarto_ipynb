{
  "cells": [
    {
      "cell_type": "markdown",
      "metadata": {},
      "source": [
        "---\n",
        "title: \"Gapminder: Example Quarto Report\"\n",
        "author: \"The GRAPH Courses\"\n",
        "format: html\n",
        "---\n",
        "\n",
        "\n",
        "This is a Quarto report with a table, a scatter plot, and a map using the Gapminder dataset, Plotly, and itables.\n",
        "\n",
        "::: {.panel-tabset} \n",
        "\n",
        "## Table\n"
      ],
      "id": "afdbcfcb"
    },
    {
      "cell_type": "code",
      "metadata": {},
      "source": [
        "from itables import show\n",
        "import plotly.express as px\n",
        "\n",
        "# Load Gapminder dataset\n",
        "gapminder = px.data.gapminder()\n",
        "\n",
        "# Display table\n",
        "show(gapminder.head())"
      ],
      "id": "222259f7",
      "execution_count": null,
      "outputs": []
    },
    {
      "cell_type": "markdown",
      "metadata": {},
      "source": [
        "## Scatter Plot\n"
      ],
      "id": "836d21bc"
    },
    {
      "cell_type": "code",
      "metadata": {},
      "source": [
        "px.scatter(\n",
        "    gapminder.query(\"year == 2007\"),\n",
        "    x=\"gdpPercap\",\n",
        "    y=\"lifeExp\",\n",
        "    color=\"continent\",\n",
        "    title=\"GDP vs Life Expectancy (2007)\"\n",
        ")"
      ],
      "id": "05332548",
      "execution_count": null,
      "outputs": []
    },
    {
      "cell_type": "markdown",
      "metadata": {},
      "source": [
        "## Map\n"
      ],
      "id": "5392c6e9"
    },
    {
      "cell_type": "code",
      "metadata": {},
      "source": [
        "px.choropleth(\n",
        "    gapminder.query(\"year == 2007\"),\n",
        "    locations=\"iso_alpha\",\n",
        "    color=\"lifeExp\",\n",
        "    hover_name=\"country\",\n",
        "    title=\"Life Expectancy (2007)\",\n",
        ")"
      ],
      "id": "bb435fce",
      "execution_count": null,
      "outputs": []
    },
    {
      "cell_type": "markdown",
      "metadata": {},
      "source": [
        ":::\n",
        "\n",
        "Sample quarto report from the GRAPH Courses python bootcamp (thegraphcourses.org/pbb)."
      ],
      "id": "bf0e8038"
    }
  ],
  "metadata": {
    "kernelspec": {
      "display_name": "Python 3",
      "language": "python",
      "name": "python3"
    }
  },
  "nbformat": 4,
  "nbformat_minor": 5
}